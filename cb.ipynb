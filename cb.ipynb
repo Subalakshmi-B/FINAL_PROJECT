{
 "cells": [
  {
   "cell_type": "code",
   "execution_count": 2,
   "metadata": {},
   "outputs": [],
   "source": [
    "import pandas as pd\n",
    "import numpy as np\n",
    "import matplotlib.pyplot as plt\n",
    "import seaborn as sns\n",
    "import datetime as dt"
   ]
  },
  {
   "cell_type": "code",
   "execution_count": 3,
   "metadata": {},
   "outputs": [],
   "source": [
    "# read the 'Mother Report' excel file\n",
    "mother_report = pd.read_excel('./input/MR.xlsx')"
   ]
  },
  {
   "cell_type": "code",
   "execution_count": 4,
   "metadata": {},
   "outputs": [],
   "source": [
    "mother_report = mother_report.drop(mother_report.columns[-1:-13:-1], axis = 1)\n",
    "mother_report = mother_report.drop(['Eligible Couple Number', 'Other Religion', 'Vdrl Test Date', 'Hiv Test Date'], axis = 1)\n",
    "mother_report = mother_report.drop(mother_report.columns[-1:-8:-1], axis = 1)"
   ]
  },
  {
   "cell_type": "code",
   "execution_count": 5,
   "metadata": {},
   "outputs": [
    {
     "data": {
      "text/plain": [
       "ANC1 Date                    66\n",
       "ANC1 Weight                  66\n",
       "ANC1 BP Sys                  66\n",
       "ANC1 BP Dia                  66\n",
       "ANC1 HB                      66\n",
       "ANC1 Urine Albumin           72\n",
       "ANC1 Urine Sugar             72\n",
       "ANC1 Blood Sugar              0\n",
       "ANC1 Fundal Height           66\n",
       "ANC1 Fetal Movements         66\n",
       "ANC1 Fetal Position          66\n",
       "ANC1 Fetal Heart Rate      4845\n",
       "ANC1 Albendazole           2047\n",
       "ANC1 Albendazole Status    4270\n",
       "ANC1 IFA Date                88\n",
       "ANC1 IFA Status              85\n",
       "ANC1 High Risk Symptoms     661\n",
       "ANC1 Referral Location     4321\n",
       "dtype: int64"
      ]
     },
     "execution_count": 5,
     "metadata": {},
     "output_type": "execute_result"
    }
   ],
   "source": [
    "# EDA. To find out the amount of Missing Values in each of the columns that start with 'ANC1'.\n",
    "# Same has benn done for other columns too, but not reproduced here.\n",
    "mother_report[mother_report.columns[mother_report.columns.str.startswith('ANC1')]].isnull().sum()"
   ]
  },
  {
   "cell_type": "code",
   "execution_count": 6,
   "metadata": {},
   "outputs": [],
   "source": [
    "# Read in the 'Delivery_Outcome_report file \n",
    "delivery_outcome = pd.read_excel('./input/DDR.xlsx')"
   ]
  },
  {
   "cell_type": "code",
   "execution_count": 7,
   "metadata": {},
   "outputs": [],
   "source": [
    "# Set the entries of outcome variable to 'Abortion' and 'Miscarriage' when 'No. Abortion' > 0 and 'No. Miscarriage' > 0\n",
    "delivery_outcome.loc[(delivery_outcome['No. Abortion'] > 0)  , ['Live Birth Or Still Birth']] = 'Abortion'\n",
    "delivery_outcome.loc[(delivery_outcome['No. Miscarriage'] > 0) , ['Live Birth Or Still Birth']] = 'Miscarriage'"
   ]
  },
  {
   "cell_type": "code",
   "execution_count": 8,
   "metadata": {},
   "outputs": [],
   "source": [
    "#Filter out the entries that don't have a value in the 'Live Birth Or Still Birth' field and rename it as delivery_1\n",
    "delivery_1 = delivery_outcome[~delivery_outcome['Live Birth Or Still Birth'].isnull()]\n"
   ]
  },
  {
   "cell_type": "code",
   "execution_count": 9,
   "metadata": {},
   "outputs": [],
   "source": [
    "#Read in the other file with outcomes.\n",
    "delivery_dhan = pd.read_excel('./input/DDCD.xlsx')\n"
   ]
  },
  {
   "cell_type": "code",
   "execution_count": 10,
   "metadata": {},
   "outputs": [],
   "source": [
    "\n",
    "#Set the value for entries where the outcome variable is not missing AND where the infant has died, to 'Infant Death' and name the \n",
    "#resulting dataframe as delivery_2\n",
    "delivery_dhan.loc[((~delivery_dhan['Delivery outcome'].isnull()) & (delivery_dhan['Infant Death'] == 'Yes')), 'Delivery outcome'] = 'Infant Death'\n",
    "delivery_2 = delivery_dhan.loc[((~delivery_dhan['Delivery outcome'].isnull()) & (delivery_dhan['Infant Death'] == 'Yes'))]\n"
   ]
  },
  {
   "cell_type": "code",
   "execution_count": 11,
   "metadata": {},
   "outputs": [],
   "source": [
    "\n",
    "#make sure that it only contains entries whose outcome values are not missing\n",
    "delivery_2 = delivery_2[~delivery_2['Delivery outcome'].isnull()]"
   ]
  },
  {
   "cell_type": "code",
   "execution_count": 12,
   "metadata": {},
   "outputs": [],
   "source": [
    "\n",
    "#Now we've to make a single dataframe(df) having data from both 'Delivery_Outcome_report and Dhanwant_Delivery\n",
    "#Make a temporary df having relevant columns from delivery_1\n",
    "merge = pd.DataFrame()\n",
    "merge['ID'] = delivery_1['Mother ID']\n",
    "merge['Outcome'] = delivery_1['Live Birth Or Still Birth']\n"
   ]
  },
  {
   "cell_type": "code",
   "execution_count": 13,
   "metadata": {},
   "outputs": [],
   "source": [
    "\n",
    "#Another temporary df that takes in all the non-common patients from delivery_1 and delivery_2\n",
    "tmp = delivery_2[~delivery_2['Patient ID'].isin(delivery_1['Mother ID'])][['Patient ID', 'Delivery outcome']]\n"
   ]
  },
  {
   "cell_type": "code",
   "execution_count": 14,
   "metadata": {},
   "outputs": [],
   "source": [
    "\n",
    "#Now we concatenate the non-common entries from both delivery_1 and delivery_2 to the 'merge' dataframe containing delivery_1 entries\n",
    "#First we rename the columns in 'tmp' so that they are concatenated along the same columns names\n",
    "tmp = tmp.reset_index().drop('index', axis = 1).rename(columns = {'Patient ID' : 'ID', 'Delivery outcome' : 'Outcome'})\n",
    "#concatenate along the columns( add new rows with same columns )\n",
    "merged = pd.concat((merge, tmp), axis = 0, ignore_index = True)"
   ]
  },
  {
   "cell_type": "code",
   "execution_count": 15,
   "metadata": {},
   "outputs": [],
   "source": [
    "\n",
    "#Now merge it with the 'Mother_report' df so that we have outcomes for the data we need to train on\n",
    "df = pd.merge(mother_report, merged, left_on = 'Registration ID', right_on = 'ID').drop('ID',axis = 1)\n",
    "\n"
   ]
  },
  {
   "cell_type": "code",
   "execution_count": 16,
   "metadata": {},
   "outputs": [
    {
     "data": {
      "text/plain": [
       "array(['Live Birth', 'Still Birth', 'Abortion', 'Infant Death',\n",
       "       'Miscarriage'], dtype=object)"
      ]
     },
     "execution_count": 16,
     "metadata": {},
     "output_type": "execute_result"
    }
   ],
   "source": [
    "#Make sure that all outcomes ('Live Birth', 'Still Birth', 'Abortion', 'Infant Death', 'Miscarriage') are present in the final df\n",
    "df['Outcome'].unique()\n",
    "\n"
   ]
  },
  {
   "cell_type": "code",
   "execution_count": 17,
   "metadata": {},
   "outputs": [
    {
     "data": {
      "text/plain": [
       "ANC1 Date                    29\n",
       "ANC1 Weight                  29\n",
       "ANC1 BP Sys                  29\n",
       "ANC1 BP Dia                  29\n",
       "ANC1 HB                      29\n",
       "ANC1 Urine Albumin           31\n",
       "ANC1 Urine Sugar             31\n",
       "ANC1 Blood Sugar              0\n",
       "ANC1 Fundal Height           29\n",
       "ANC1 Fetal Movements         29\n",
       "ANC1 Fetal Position          29\n",
       "ANC1 Fetal Heart Rate      1848\n",
       "ANC1 Albendazole            746\n",
       "ANC1 Albendazole Status    1658\n",
       "ANC1 IFA Date                38\n",
       "ANC1 IFA Status              36\n",
       "ANC1 High Risk Symptoms     287\n",
       "ANC1 Referral Location     1674\n",
       "dtype: int64"
      ]
     },
     "execution_count": 17,
     "metadata": {},
     "output_type": "execute_result"
    }
   ],
   "source": [
    "#Again see how many missing values are left in the new df\n",
    "df[df.columns[df.columns.str.startswith('ANC1')]].isnull().sum()\n"
   ]
  },
  {
   "cell_type": "code",
   "execution_count": 18,
   "metadata": {},
   "outputs": [],
   "source": [
    "df2 = df.drop(['LMP Date', 'Religion', 'Bank Name', 'Blood Group', 'Drop Out',\n",
    "         'Past Illnesses', 'Penultimate Preg Outcomes', \n",
    "         'Prior Pregnancy Complications', 'Block', 'Camp Name', \n",
    "         'Active', 'Returning', \n",
    "         'ANC1 IFA Date', 'ANC2 IFA Date', 'ANC3 IFA Date', 'ANC4 IFA Date',\n",
    "         'ANC1 Albendazole Status', 'ANC2 Albendazole Status', 'ANC3 Albendazole Status', 'ANC4 Albendazole Status',\n",
    "         'ANC1 Referral Location', 'ANC2 Referral Location', 'ANC3 Referral Location', 'ANC4 Referral Location',\n",
    "        'ANC1 Albendazole', 'ANC2 Albendazole', 'ANC3 Albendazole', 'ANC4 Albendazole', \n",
    "         'ANC1 IFA Status', 'ANC2 IFA Status', 'ANC3 IFA Status', 'ANC4 IFA Status', \n",
    "         'ANC1 Urine Sugar', 'ANC2 Urine Albumin', 'ANC2 Urine Sugar',\"ANC1 Urine Albumin \",\n",
    "        'ANC3 Urine Albumin', 'ANC3 Urine Sugar', 'ANC4 Urine Albumin', 'ANC4 Urine Sugar'], axis = 1)\n",
    "\t\t"
   ]
  },
  {
   "cell_type": "code",
   "execution_count": 19,
   "metadata": {},
   "outputs": [],
   "source": [
    "\n",
    "# Since the sting values in the data such as 'No Equipment' in the variable 'ANC Heart Rate' have been misspelled \n",
    "#and expressed in different languages, make it into a single value, 'NO Equipment'\n",
    "df2[df2.columns[df2.columns.str.contains('Heart Rate')]].loc [((df2['ANC1 Fetal Heart Rate'].str.contains('quipm')) | (df2['ANC2 Fetal Heart Rate'].str.contains('quipm'))\n",
    "                         | (df2['ANC3 Fetal Heart Rate'].str.contains('quipm')) | (df2['ANC4 Fetal Heart Rate'].str.contains('quipm')))].fillna('No Equipment', inplace = True)\n",
    "\t\t\t\t\t\t "
   ]
  },
  {
   "cell_type": "code",
   "execution_count": 20,
   "metadata": {},
   "outputs": [],
   "source": [
    "\n",
    "# Fill in the missing values in the 'ANC Dates' columns to -1 \n",
    "for i in [1,2,3,4]:\n",
    "    df2['ANC'+str(i)+' Date'] = df2['ANC'+str(i)+' Date'].map(lambda x: x if x.year>1970 else -1)\n",
    "\t\n",
    "# Fill in the missing values in ANC Weights with NaN values for the time being (not -1, as next we find out the diff in weights across all ANC's)\n",
    "for i in ['ANC1 Weight', 'ANC2 Weight', 'ANC3 Weight', 'ANC4 Weight']:\n",
    "    df2[i] = df2[i].map(lambda x: x if (type(x) == int or type(x) == float) else np.nan)"
   ]
  },
  {
   "cell_type": "code",
   "execution_count": 21,
   "metadata": {},
   "outputs": [],
   "source": [
    "\n",
    "# Normally the weights tend to increase as the ANC's progress. Although some entries buck this trend, this trend has been assumed here\n",
    "# to find out the max weight change from the first ANC. If all weight values are missing, set weight change to 0\n",
    "df2['Max Change in ANC Weight'] = df2[['ANC1 Weight', 'ANC2 Weight', 'ANC3 Weight', 'ANC4 Weight']].apply(lambda x : x.max() - x['ANC1 Weight'] if x['ANC1 Weight'] != -1 else 0, axis = 1)\n",
    "\n",
    "# Drop the columns as data has been extracted\n",
    "df2.drop(['ANC1 Weight', 'ANC2 Weight', 'ANC3 Weight', 'ANC4 Weight'], axis = 1, inplace = True)"
   ]
  },
  {
   "cell_type": "code",
   "execution_count": 22,
   "metadata": {},
   "outputs": [],
   "source": [
    "# Find out the pressure differential (('Sys BP' - 'Dia BP)/'Sys BP') that takes into account the absolute values of the 'Sys BP',\n",
    "# rather than just the difference in pressure. This is done on the huge dataframe where the large no. of columns\n",
    "# were not dropped. \n",
    "df['ANC4 Pressure Difference'] = df.apply(lambda x : (x['ANC4 BP Sys'] - x['ANC4 BP Dia'])/x['ANC4 BP Sys'] if (type(x['ANC4 BP Sys']) == int and x['ANC4 BP Sys' ] != 0) else 0, axis = 1)\n",
    "df['ANC3 Pressure Difference'] = df.apply(lambda x : (x['ANC3 BP Sys'] - x['ANC3 BP Dia'])/x['ANC3 BP Sys'] if (type(x['ANC3 BP Sys']) == int and x['ANC3 BP Sys' ] != 0) else 0, axis = 1)\n",
    "df['ANC2 Pressure Difference'] = df.apply(lambda x : (x['ANC2 BP Sys '] - x['ANC2 BP Dia'])/x['ANC2 BP Sys '] if (type(x['ANC2 BP Sys ']) == int and x['ANC2 BP Sys ' ] != 0) else 0, axis = 1)\n",
    "df['ANC1 Pressure Difference'] = df.apply(lambda x : (x['ANC1 BP Sys'] - x['ANC1 BP Dia'])/x['ANC1 BP Sys'] if (type(x['ANC1 BP Sys']) == int and x['ANC1 BP Sys' ] != 0) else 0, axis = 1)"
   ]
  },
  {
   "cell_type": "code",
   "execution_count": 23,
   "metadata": {},
   "outputs": [],
   "source": [
    "# make those values into new columns in our main dataframe replacing -1 values, if any, to 0 \n",
    "for i in ['ANC1 Pressure Difference', 'ANC2 Pressure Difference', 'ANC3 Pressure Difference', 'ANC4 Pressure Difference']:\n",
    "    df2[i] = df[i].map(lambda x: 0 if x == -1 else x)\n",
    "\t\n",
    "# Drop the BP columns as relevant data has been extracted from it.\n",
    "df2.drop(df2.columns[df2.columns.str.contains('BP')], axis = 1, inplace = True)\n",
    "\n",
    "# Keep only the ANC1 Hb values as all the other contain too much missing data and fill missing values in ANC1 Hb to -1\n",
    "df2.drop(['ANC2 HB', 'ANC3 HB', 'ANC4 HB'], axis = 1, inplace = True)\n",
    "df2['ANC1 HB'] = df2['ANC1 HB'].map(lambda x: -1 if type(x) == str else x).fillna(-1)\n",
    "\n",
    "# Drop the fundal height valriables as they appear in the risk symptoms engineered features later on.\n",
    "df2.drop(['ANC1 Fundal Height', 'ANC2 Fundal Height', 'ANC3 Fundal Height', 'ANC4 Fundal Height'], axis = 1, inplace = True)"
   ]
  },
  {
   "cell_type": "code",
   "execution_count": 24,
   "metadata": {},
   "outputs": [],
   "source": [
    "# Assign values for 'Abnormal', 'Normal', and 'Not Done' values in ANC fetal movements variable \n",
    "for i in ['ANC1 Fetal Movements', 'ANC2 Fetal Movements', 'ANC3 Fetal Movements', 'ANC4 Fetal Movements']:\n",
    "    df2[i] = df[i].map({'Abnormal' : -100, 'Normal' : 100, 'Not Done' : -1})\n",
    "\n",
    "# Here, we find out the max values (100) and min values (-100) along the different Fetal mov variables in one entry, temporary feature.\n",
    "df2['max'] = df2[['ANC1 Fetal Movements', 'ANC2 Fetal Movements', 'ANC3 Fetal Movements', 'ANC4 Fetal Movements']].max(axis= 1)\n",
    "df2['min'] = df2[['ANC1 Fetal Movements', 'ANC2 Fetal Movements', 'ANC3 Fetal Movements', 'ANC4 Fetal Movements']].min(axis= 1)\n",
    " \n",
    "# Create a new feature that shows whether fetal mov was normal or abnormal\n",
    "# If along the row, the max value of 100 is present, then fetal mov was normal in atleast one ANC checkup, so assign 1 to it (normal)\n",
    "# Else assign zero (abnormal)\n",
    "df2['Fetal Movement Nomal/Abnormal'] = df2.apply(lambda x: 1 if x['max'] == 100 else 0, axis = 1)\n",
    "\n",
    "# If both max and min are -1 (missing), assign to the new feature a value of 2, indicating 'Unknown' \n",
    "df2.loc[((df2['max'] == -1) & (df2['min'] == -1)), 'Fetal Movement Nomal/Abnormal'] = 2\n",
    "\n",
    "#Drop temp columns max and min\n",
    "df2.drop(['max', 'min'], axis = 1, inplace = True)"
   ]
  },
  {
   "cell_type": "code",
   "execution_count": null,
   "metadata": {},
   "outputs": [],
   "source": []
  },
  {
   "cell_type": "code",
   "execution_count": null,
   "metadata": {},
   "outputs": [],
   "source": []
  },
  {
   "cell_type": "code",
   "execution_count": null,
   "metadata": {},
   "outputs": [],
   "source": []
  },
  {
   "cell_type": "code",
   "execution_count": null,
   "metadata": {},
   "outputs": [],
   "source": []
  },
  {
   "cell_type": "code",
   "execution_count": null,
   "metadata": {},
   "outputs": [],
   "source": []
  },
  {
   "cell_type": "code",
   "execution_count": null,
   "metadata": {},
   "outputs": [],
   "source": []
  },
  {
   "cell_type": "code",
   "execution_count": null,
   "metadata": {},
   "outputs": [],
   "source": []
  },
  {
   "cell_type": "code",
   "execution_count": null,
   "metadata": {},
   "outputs": [],
   "source": []
  },
  {
   "cell_type": "code",
   "execution_count": null,
   "metadata": {},
   "outputs": [],
   "source": []
  },
  {
   "cell_type": "code",
   "execution_count": null,
   "metadata": {},
   "outputs": [],
   "source": []
  },
  {
   "cell_type": "code",
   "execution_count": null,
   "metadata": {},
   "outputs": [],
   "source": []
  },
  {
   "cell_type": "code",
   "execution_count": null,
   "metadata": {},
   "outputs": [],
   "source": []
  },
  {
   "cell_type": "code",
   "execution_count": null,
   "metadata": {},
   "outputs": [],
   "source": []
  },
  {
   "cell_type": "code",
   "execution_count": null,
   "metadata": {},
   "outputs": [],
   "source": []
  },
  {
   "cell_type": "code",
   "execution_count": null,
   "metadata": {},
   "outputs": [],
   "source": []
  },
  {
   "cell_type": "code",
   "execution_count": null,
   "metadata": {},
   "outputs": [],
   "source": []
  },
  {
   "cell_type": "code",
   "execution_count": null,
   "metadata": {},
   "outputs": [],
   "source": []
  },
  {
   "cell_type": "code",
   "execution_count": null,
   "metadata": {},
   "outputs": [],
   "source": []
  },
  {
   "cell_type": "code",
   "execution_count": null,
   "metadata": {},
   "outputs": [],
   "source": []
  },
  {
   "cell_type": "code",
   "execution_count": null,
   "metadata": {},
   "outputs": [],
   "source": []
  },
  {
   "cell_type": "code",
   "execution_count": null,
   "metadata": {},
   "outputs": [],
   "source": []
  },
  {
   "cell_type": "code",
   "execution_count": null,
   "metadata": {},
   "outputs": [],
   "source": []
  },
  {
   "cell_type": "code",
   "execution_count": null,
   "metadata": {},
   "outputs": [],
   "source": []
  }
 ],
 "metadata": {
  "kernelspec": {
   "display_name": "Python 3 (ipykernel)",
   "language": "python",
   "name": "python3"
  },
  "language_info": {
   "codemirror_mode": {
    "name": "ipython",
    "version": 3
   },
   "file_extension": ".py",
   "mimetype": "text/x-python",
   "name": "python",
   "nbconvert_exporter": "python",
   "pygments_lexer": "ipython3",
   "version": "3.9.7"
  }
 },
 "nbformat": 4,
 "nbformat_minor": 4
}
